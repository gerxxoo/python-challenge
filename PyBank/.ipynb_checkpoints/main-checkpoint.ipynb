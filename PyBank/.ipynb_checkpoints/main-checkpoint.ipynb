{
 "cells": [
  {
   "cell_type": "code",
   "execution_count": 1,
   "id": "729b0787-8ff2-4e0e-9263-48d356c1ab25",
   "metadata": {},
   "outputs": [
    {
     "data": {
      "text/plain": [
       "'\"\\nThis script will analyze financial records of my company. It will be able to calculate each of the following:\\n\\nThe total number of months included in the dataset\\n\\nThe net total amount of Profit/Losses over the entire period\\n\\nThe average of the changes in Profit/Losses over the entire period\\n\\nThe greatest increase in profits (date and amount) over the entire period\\n\\nThe greatest decrease in losses (date and amount) over the entire period\\n'"
      ]
     },
     "execution_count": 1,
     "metadata": {},
     "output_type": "execute_result"
    }
   ],
   "source": [
    "\"\"\"\"\n",
    "This script will analyze financial records of my company. It will be able to calculate each of the following:\n",
    "\n",
    "The total number of months included in the dataset\n",
    "\n",
    "The net total amount of Profit/Losses over the entire period\n",
    "\n",
    "The average of the changes in Profit/Losses over the entire period\n",
    "\n",
    "The greatest increase in profits (date and amount) over the entire period\n",
    "\n",
    "The greatest decrease in losses (date and amount) over the entire period\n",
    "\"\"\"\n"
   ]
  },
  {
   "cell_type": "code",
   "execution_count": 19,
   "id": "3374b14e-ff23-4cfd-8614-421bae6298c3",
   "metadata": {
    "tags": []
   },
   "outputs": [
    {
     "name": "stdout",
     "output_type": "stream",
     "text": [
      "['Date', 'Profit/Losses']\n",
      "['Jan-2010', '867884']\n",
      "['Feb-2010', '984655']\n",
      "['Mar-2010', '322013']\n",
      "['Apr-2010', '-69417']\n",
      "['May-2010', '310503']\n",
      "['Jun-2010', '522857']\n",
      "['Jul-2010', '1033096']\n",
      "['Aug-2010', '604885']\n",
      "['Sep-2010', '-216386']\n",
      "['Oct-2010', '477532']\n",
      "['Nov-2010', '893810']\n",
      "['Dec-2010', '-80353']\n",
      "['Jan-2011', '779806']\n",
      "['Feb-2011', '-335203']\n",
      "['Mar-2011', '697845']\n",
      "['Apr-2011', '793163']\n",
      "['May-2011', '485070']\n",
      "['Jun-2011', '584122']\n",
      "['Jul-2011', '62729']\n",
      "['Aug-2011', '668179']\n",
      "['Sep-2011', '899906']\n",
      "['Oct-2011', '834719']\n",
      "['Nov-2011', '132003']\n",
      "['Dec-2011', '309978']\n",
      "['Jan-2012', '-755566']\n",
      "['Feb-2012', '1170593']\n",
      "['Mar-2012', '252788']\n",
      "['Apr-2012', '1151518']\n",
      "['May-2012', '817256']\n",
      "['Jun-2012', '570757']\n",
      "['Jul-2012', '506702']\n",
      "['Aug-2012', '-1022534']\n",
      "['Sep-2012', '475062']\n",
      "['Oct-2012', '779976']\n",
      "['Nov-2012', '144175']\n",
      "['Dec-2012', '542494']\n",
      "['Jan-2013', '359333']\n",
      "['Feb-2013', '321469']\n",
      "['Mar-2013', '67780']\n",
      "['Apr-2013', '471435']\n",
      "['May-2013', '565603']\n",
      "['Jun-2013', '872480']\n",
      "['Jul-2013', '789480']\n",
      "['Aug-2013', '999942']\n",
      "['Sep-2013', '-1196225']\n",
      "['Oct-2013', '268997']\n",
      "['Nov-2013', '-687986']\n",
      "['Dec-2013', '1150461']\n",
      "['Jan-2014', '682458']\n",
      "['Feb-2014', '617856']\n",
      "['Mar-2014', '824098']\n",
      "['Apr-2014', '581943']\n",
      "['May-2014', '132864']\n",
      "['Jun-2014', '448062']\n",
      "['Jul-2014', '689161']\n",
      "['Aug-2014', '800701']\n",
      "['Sep-2014', '1166643']\n",
      "['Oct-2014', '947333']\n",
      "['Nov-2014', '578668']\n",
      "['Dec-2014', '988505']\n",
      "['Jan-2015', '1139715']\n",
      "['Feb-2015', '1029471']\n",
      "['Mar-2015', '687533']\n",
      "['Apr-2015', '-524626']\n",
      "['May-2015', '158620']\n",
      "['Jun-2015', '87795']\n",
      "['Jul-2015', '423389']\n",
      "['Aug-2015', '840723']\n",
      "['Sep-2015', '568529']\n",
      "['Oct-2015', '332067']\n",
      "['Nov-2015', '989499']\n",
      "['Dec-2015', '778237']\n",
      "['Jan-2016', '650000']\n",
      "['Feb-2016', '-1100387']\n",
      "['Mar-2016', '-174946']\n",
      "['Apr-2016', '757143']\n",
      "['May-2016', '445709']\n",
      "['Jun-2016', '712961']\n",
      "['Jul-2016', '-1163797']\n",
      "['Aug-2016', '569899']\n",
      "['Sep-2016', '768450']\n",
      "['Oct-2016', '102685']\n",
      "['Nov-2016', '795914']\n",
      "['Dec-2016', '60988']\n",
      "['Jan-2017', '138230']\n",
      "['Feb-2017', '671099']\n"
     ]
    }
   ],
   "source": [
    "#Tell machine that I want to import a csv file\n",
    "from pathlib import Path\n",
    "import csv \n",
    "\n",
    "#Specify what the path of the csv file is\n",
    "file_path = Path('..','..','Starter_Code','PyBank','Resources','budget_data.csv')\n",
    "\n",
    "#Open and read the csv file\n",
    "with file_path.open(mode='r', newline='') as file:\n",
    "    csv_reader = csv.reader(file)\n",
    "    \n",
    "    for row in csv_reader:\n",
    "        print(row)"
   ]
  },
  {
   "cell_type": "code",
   "execution_count": 35,
   "id": "8257a0b6-5e78-4dde-b27f-9839cf9fea8c",
   "metadata": {
    "tags": []
   },
   "outputs": [
    {
     "name": "stdout",
     "output_type": "stream",
     "text": [
      "Total Months: 86\n"
     ]
    }
   ],
   "source": [
    "#Tell machine that I want to import a csv file\n",
    "from pathlib import Path\n",
    "import csv \n",
    "\n",
    "#Specify what the path of the csv file is\n",
    "file_path = Path('..', '..', 'Starter_Code', 'PyBank', 'Resources', 'budget_data.csv')\n",
    "\n",
    "#Open and read the csv file\n",
    "with file_path.open(mode='r', newline='') as file:\n",
    "    csv_reader = csv.reader(file) \n",
    "        \n",
    "#Skip the header\n",
    "    header = next(csv_reader, None)\n",
    "\n",
    "#Set counter to 0\n",
    "    total_months = 0\n",
    "\n",
    "#Tell machine to increase the count by 1 when a row is read\n",
    "    for row in csv_reader:\n",
    "        total_months += 1\n",
    "\n",
    "print(f'Total Months: {total_months}')"
   ]
  },
  {
   "cell_type": "code",
   "execution_count": 38,
   "id": "e3fa4d8d-fc9f-47ea-baeb-d4201c6c7982",
   "metadata": {
    "tags": []
   },
   "outputs": [
    {
     "name": "stdout",
     "output_type": "stream",
     "text": [
      "Total: $38382578\n"
     ]
    }
   ],
   "source": [
    "#Tell machine that I want to import a csv file\n",
    "from pathlib import Path\n",
    "import csv \n",
    "\n",
    "#Specify what the path of the csv file is\n",
    "file_path = Path('..', '..', 'Starter_Code', 'PyBank', 'Resources', 'budget_data.csv')\n",
    "\n",
    "#Open and read the csv file\n",
    "with file_path.open(mode='r', newline='') as file:\n",
    "    csv_reader = csv.reader(file) \n",
    "        \n",
    "#Skip the header\n",
    "    header = next(csv_reader, None)\n",
    "\n",
    "#Set counter to 0\n",
    "    total = 0\n",
    "\n",
    "#Tell machine to increase the count by 1 when a row is read\n",
    "    for row in csv_reader:\n",
    "        total += int(row[1])\n",
    "\n",
    "print(f'Total: ${total}')"
   ]
  },
  {
   "cell_type": "code",
   "execution_count": 48,
   "id": "0d60aedb-8738-4cbe-aaa4-82ac0efb6de5",
   "metadata": {
    "tags": []
   },
   "outputs": [
    {
     "name": "stdout",
     "output_type": "stream",
     "text": [
      "The average change in values from the CSV file is: $-2315.12\n"
     ]
    }
   ],
   "source": [
    "#Tell machine that I want to import a csv file\n",
    "from pathlib import Path\n",
    "import csv \n",
    "\n",
    "#Specify what the path of the csv file is\n",
    "file_path = Path('..', '..', 'Starter_Code', 'PyBank', 'Resources', 'budget_data.csv')\n",
    "\n",
    "#Open and read the csv file\n",
    "with file_path.open(mode='r', newline='') as file:\n",
    "    csv_reader = csv.reader(file) \n",
    "        \n",
    "#Skip the header\n",
    "    header = next(csv_reader, None)\n",
    "\n",
    "    #Confirm that we are starting from the first value    \n",
    "    previous_value = None\n",
    "    total_change = 0\n",
    "    change_count = 0\n",
    "\n",
    " #Tell machine that values in index/element 1 are integers\n",
    "    for row in csv_reader:\n",
    "        current_value = int(row[1]) \n",
    "        \n",
    "        # Check if it's not the first value to calculate change\n",
    "        if previous_value is not None:\n",
    "            total_change += current_value - previous_value\n",
    "            change_count += 1\n",
    "        \n",
    "        previous_value = current_value\n",
    "\n",
    "# Calculate the average change\n",
    "if change_count > 0:\n",
    "    average_change = total_change / change_count\n",
    "    rounded_average = round(average_change, 2)\n",
    "    print(f\"The average change in values from the CSV file is: ${rounded_average}\")\n",
    "else:\n",
    "    print(\"No change or insufficient data to compute the average change.\")"
   ]
  },
  {
   "cell_type": "code",
   "execution_count": null,
   "id": "695e6600-67ef-4243-8255-12e82569bf2b",
   "metadata": {},
   "outputs": [],
   "source": []
  }
 ],
 "metadata": {
  "kernelspec": {
   "display_name": "Python 3 (ipykernel)",
   "language": "python",
   "name": "python3"
  },
  "language_info": {
   "codemirror_mode": {
    "name": "ipython",
    "version": 3
   },
   "file_extension": ".py",
   "mimetype": "text/x-python",
   "name": "python",
   "nbconvert_exporter": "python",
   "pygments_lexer": "ipython3",
   "version": "3.10.13"
  }
 },
 "nbformat": 4,
 "nbformat_minor": 5
}
