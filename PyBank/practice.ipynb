{
 "cells": [
  {
   "cell_type": "code",
   "execution_count": 5,
   "id": "c46ead97-9047-451f-8e8a-6799b9316368",
   "metadata": {
    "tags": []
   },
   "outputs": [],
   "source": [
    "\"\"\"\n",
    "Import the data from Starter Code.\n",
    "\n",
    "\"\"\"\n",
    "\n",
    "#Importing data\n",
    "import csv\n",
    "from pathlib import Path\n",
    "file_to_load = Path(\"Resources/budget_data.csv\")\n",
    "file_to_output = Path(\"analysis/budget_analysis.txt\")"
   ]
  },
  {
   "cell_type": "code",
   "execution_count": null,
   "id": "a7abbc7c-49a3-4b1b-a6bc-bf48210bdae2",
   "metadata": {},
   "outputs": [],
   "source": []
  }
 ],
 "metadata": {
  "kernelspec": {
   "display_name": "Python 3 (ipykernel)",
   "language": "python",
   "name": "python3"
  },
  "language_info": {
   "codemirror_mode": {
    "name": "ipython",
    "version": 3
   },
   "file_extension": ".py",
   "mimetype": "text/x-python",
   "name": "python",
   "nbconvert_exporter": "python",
   "pygments_lexer": "ipython3",
   "version": "3.10.13"
  }
 },
 "nbformat": 4,
 "nbformat_minor": 5
}
