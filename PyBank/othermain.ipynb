{
 "cells": [
  {
   "cell_type": "code",
   "execution_count": 5,
   "id": "ee3e50c7-8aca-4f28-bb43-a56ed4930a8e",
   "metadata": {
    "tags": []
   },
   "outputs": [
    {
     "name": "stdout",
     "output_type": "stream",
     "text": [
      "Total Months: 86\n"
     ]
    }
   ],
   "source": [
    "\"\"\"\"\n",
    "This script will analyze financial records of my company. It will be able to calculate each of the following:\n",
    "\n",
    "The total number of months included in the dataset\n",
    "\n",
    "The net total amount of Profit/Losses over the entire period\n",
    "\n",
    "The average of the changes in Profit/Losses over the entire period\n",
    "\n",
    "The greatest increase in profits (date and amount) over the entire period\n",
    "\n",
    "The greatest decrease in losses (date and amount) over the entire period\n",
    "\"\"\"\n",
    "\n",
    "#Initialize a directory of dates with profits and losses\n",
    "pnl = {\n",
    "    \"Jan-10\": 867884,\n",
    "    \"Feb-10\": 984655,\n",
    "    \"Mar-10\": 322013,\n",
    "    \"Apr-10\": -69417,\n",
    "    \"May-10\": 310503,\n",
    "    \"Jun-10\": 522857,\n",
    "    \"Jul-10\": 1033096,\n",
    "    \"Aug-10\": 604885,\n",
    "    \"Sep-10\": -216386,\n",
    "    \"Oct-10\": 477532,\n",
    "    \"Nov-10\": 893810,\n",
    "    \"Dec-10\": -80353,\n",
    "    \"Jan-11\": 779806,\n",
    "    \"Feb-11\": -335203,\n",
    "    \"Mar-11\": 697845,\n",
    "    \"Apr-11\": 793163,\n",
    "    \"May-11\": 485070,\n",
    "    \"Jun-11\": 584122,\n",
    "    \"Jul-11\": 62729,\n",
    "    \"Aug-11\": 668179,\n",
    "    \"Sep-11\": 899906,\n",
    "    \"Oct-11\": 834719,\n",
    "    \"Nov-11\": 132003,\n",
    "    \"Dec-11\": 309978,\n",
    "    \"Jan-12\": -755566,\n",
    "    \"Feb-12\": 1170593,\n",
    "    \"Mar-12\": 252788,\n",
    "    \"Apr-12\": 1151518,\n",
    "    \"May-12\": 817256,\n",
    "    \"Jun-12\": 570757,\n",
    "    \"Jul-12\": 506702,\n",
    "    \"Aug-12\": -1022534,\n",
    "    \"Sep-12\": 475062,\n",
    "    \"Oct-12\": 779976,\n",
    "    \"Nov-12\": 144175,\n",
    "    \"Dec-12\": 542494,\n",
    "    \"Jan-13\": 359333,\n",
    "    \"Feb-13\": 321469,\n",
    "    \"Mar-13\": 67780,\n",
    "    \"Apr-13\": 471435,\n",
    "    \"May-13\": 565603,\n",
    "    \"Jun-13\": 872480,\n",
    "    \"Jul-13\": 789480,\n",
    "    \"Aug-13\": 999942,\n",
    "    \"Sep-13\": -1196225,\n",
    "    \"Oct-13\": 268997,\n",
    "    \"Nov-13\": -687986,\n",
    "    \"Dec-13\": 1150461,\n",
    "    \"Jan-14\": 682458,\n",
    "    \"Feb-14\": 617856,\n",
    "    \"Mar-14\": 824098,\n",
    "    \"Apr-14\": 581943,\n",
    "    \"May-14\": 132864,\n",
    "    \"Jun-14\": 448062,\n",
    "    \"Jul-14\": 689161,\n",
    "    \"Aug-14\": 800701,\n",
    "    \"Sep-14\": 1166643,\n",
    "    \"Oct-14\": 947333,\n",
    "    \"Nov-14\": 578668,\n",
    "    \"Dec-14\": 988505,\n",
    "    \"Jan-15\": 1139715,\n",
    "    \"Feb-15\": 1029471,\n",
    "    \"Mar-15\": 687533,\n",
    "    \"Apr-15\": -524626,\n",
    "    \"May-15\": 158620,\n",
    "    \"Jun-15\": 87795,\n",
    "    \"Jul-15\": 423389,\n",
    "    \"Aug-15\": 840723,\n",
    "    \"Sep-15\": 568529,\n",
    "    \"Oct-15\": 332067,\n",
    "    \"Nov-15\": 989499,\n",
    "    \"Dec-15\": 778237,\n",
    "    \"Jan-16\": 650000,\n",
    "    \"Feb-16\": -1100387,\n",
    "    \"Mar-16\": -174946,\n",
    "    \"Apr-16\": 757143,\n",
    "    \"May-16\": 445709,\n",
    "    \"Jun-16\": 712961,\n",
    "    \"Jul-16\": -1163797,\n",
    "    \"Aug-16\": 569899,\n",
    "    \"Sep-16\": 768450,\n",
    "    \"Oct-16\": 102685,\n",
    "    \"Nov-16\": 795914,\n",
    "    \"Dec-16\": 60988,\n",
    "    \"Jan-17\": 138230,\n",
    "    \"Feb-17\": 671099\n",
    "}\n",
    "total_months = len(pnl)\n",
    "print(\"Total Months:\", total_months)"
   ]
  },
  {
   "cell_type": "code",
   "execution_count": 7,
   "id": "5d54d293-fa07-42df-b033-33880b2b8b32",
   "metadata": {
    "tags": []
   },
   "outputs": [
    {
     "name": "stdout",
     "output_type": "stream",
     "text": [
      "Total: 38382578\n"
     ]
    }
   ],
   "source": [
    "total = sum(pnl.values())\n",
    "print(\"Total:\", total)"
   ]
  },
  {
   "cell_type": "code",
   "execution_count": null,
   "id": "73a24540-e7fa-4d51-b7be-cf5bc096dacd",
   "metadata": {},
   "outputs": [],
   "source": []
  }
 ],
 "metadata": {
  "kernelspec": {
   "display_name": "Python 3 (ipykernel)",
   "language": "python",
   "name": "python3"
  },
  "language_info": {
   "codemirror_mode": {
    "name": "ipython",
    "version": 3
   },
   "file_extension": ".py",
   "mimetype": "text/x-python",
   "name": "python",
   "nbconvert_exporter": "python",
   "pygments_lexer": "ipython3",
   "version": "3.10.13"
  }
 },
 "nbformat": 4,
 "nbformat_minor": 5
}
